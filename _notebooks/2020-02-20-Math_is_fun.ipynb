{
 "cells": [
  {
   "cell_type": "markdown",
   "metadata": {},
   "source": [
    "# \"Math is Fun Homework Assignment \"\n",
    "> \"\"\n",
    "\n",
    "- toc: false\n",
    "- branch: master\n",
    "- badges: true\n",
    "- comments: true\n",
    "- categories: [jupyter]\n",
    "- hide: false\n",
    "- search_exclude: true"
   ]
  },
  {
   "cell_type": "markdown",
   "metadata": {},
   "source": [
    "\n",
    "In this assignment, 3 questions were answered from project euler: https://projecteuler.net/about\n"
   ]
  },
  {
   "cell_type": "markdown",
   "metadata": {},
   "source": [
    "## Project Euler problem 205 \n",
    "\n",
    "Peter has nine four-sided (pyramidal) dice, each with faces numbered 1, 2, 3, 4.\n",
    "Colin has six six-sided (cubic) dice, each with faces numbered 1, 2, 3, 4, 5, 6.\n",
    "\n",
    "Peter and Colin roll their dice and compare totals: the highest total wins. The result is a draw if the totals are equal.\n",
    "\n",
    "What is the probability that Pyramidal Pete beats Cubic Colin? Give your answer rounded to seven decimal places in the form 0.abcdefg\n",
    "\n",
    "### Problem Breakdown \n",
    "\n",
    "To calculate the probability that Pete will have a higher sum than Colin, we will have to calculate the total number of outomes for each person then find the number of possible combinations of those sums. Those combinations can then be filtered by those where Pete has a higher sum. The number of outcomes where Pete wins will be divided by the total number of outcomes to produce a probability. \n",
    "\n",
    "### Solution: "
   ]
  },
  {
   "cell_type": "code",
   "execution_count": 6,
   "metadata": {},
   "outputs": [
    {
     "name": "stdout",
     "output_type": "stream",
     "text": [
      "0.5504526\n"
     ]
    }
   ],
   "source": [
    "\n",
    "import itertools\n",
    "from itertools import product\n",
    "def probability_peter_wins():\n",
    "    \"\"\" This function determines the probability that peter will roll a higher dice sum than colin\"\"\" \n",
    "    list_peter = []\n",
    "    list_colin = []\n",
    "    peter_possible_outcomes = itertools.combinations_with_replacement([1,2,3,4], 9)\n",
    "    colin_possible_outcomes = itertools.combinations_with_replacement([1,2,3,4,5,6], 6)\n",
    "    for i in peter_possible_outcomes:\n",
    "        possible_sums_peter = sum(i)\n",
    "        list_peter.append(int(possible_sums_peter))\n",
    "\n",
    "    for x in colin_possible_outcomes:\n",
    "        possible_sums_colin = sum(x)\n",
    "        list_colin.append(int(possible_sums_colin))\n",
    "    #find number of outcomes between two sums\n",
    "    sum_combinations = list(product(list_colin, list_peter))\n",
    "    #turn list of tuples into list of lists \n",
    "    list_sum_combinations = [list(ele) for ele in sum_combinations]\n",
    "    number_outcomes = len(list_sum_combinations) # find total number of outcomes\n",
    "    #find number of outcomes where peter has higher sum \n",
    "    peter_larger = [item[1] > item[0] for item in list_sum_combinations]\n",
    "    number_outcomes_peter_larger= peter_larger.count(True)\n",
    "    #compute probability\n",
    "    probability_peter_larger = number_outcomes_peter_larger /number_outcomes\n",
    "    print(round(probability_peter_larger, 7))\n",
    "\n",
    "if __name__ == \"__main__\":\n",
    "    probability = probability_peter_wins()\n"
   ]
  },
  {
   "cell_type": "markdown",
   "metadata": {},
   "source": [
    "### Solution Explanation \n",
    "\n",
    "First, the possible outcomes for die rolls for Peter and Colin were calculated with intertools combinations_with_replacement since each integer has an equal probability of occuring with each roll. Once the outcomes were produced, the sum of each outcome was calculated using a for loop. Then, all of the different combinations of sums were produced using the product function. This function created a list of tuples, so this was changed to a list of lists to make manipulation easier. A list comprehension was used to filter the list of lists to those where peter had a higher sum. The count of the outcomes where peter won was divided by the total number of outcomes. This gave us a probability of 0.5504525. "
   ]
  },
  {
   "cell_type": "markdown",
   "metadata": {},
   "source": [
    "## Project Euler problem 501 \n",
    "\n",
    "The eight divisors of 24 are 1, 2, 3, 4, 6, 8, 12 and 24. The ten numbers not exceeding 100 having exactly eight divisors are 24, 30, 40, 42, 54, 56, 66, 70, 78 and 88. \n",
    "Let f(n) be the count of numbers not exceeding n with exactly eight divisors.\n",
    "You are given f(100) = 10, f(1000) = 180 and f(10^6) = 224427.\n",
    "Find f(10^12)."
   ]
  },
  {
   "cell_type": "markdown",
   "metadata": {},
   "source": [
    "### Problem Breakdown \n",
    "\n",
    "This problem is essentially asking us to find the number of integers between 1 and a given integer that have 8 divisors. When I first attempted this problem, I created 2 for loops to produce a list of divisors for each integer, and then used .count(8) to count the number of times 8 occured in that list. Here is that initial solution: \n"
   ]
  },
  {
   "cell_type": "code",
   "execution_count": 8,
   "metadata": {},
   "outputs": [
    {
     "ename": "KeyboardInterrupt",
     "evalue": "",
     "output_type": "error",
     "traceback": [
      "\u001b[0;31m\u001b[0m",
      "\u001b[0;31mKeyboardInterrupt\u001b[0mTraceback (most recent call last)",
      "\u001b[0;32m<ipython-input-8-0b5e24ccb9ca>\u001b[0m in \u001b[0;36m<module>\u001b[0;34m\u001b[0m\n\u001b[1;32m      8\u001b[0m \u001b[0mlist_num\u001b[0m \u001b[0;34m=\u001b[0m \u001b[0;34m[\u001b[0m\u001b[0;34m]\u001b[0m\u001b[0;34m\u001b[0m\u001b[0;34m\u001b[0m\u001b[0m\n\u001b[1;32m      9\u001b[0m \u001b[0;32mfor\u001b[0m \u001b[0mx\u001b[0m \u001b[0;32min\u001b[0m \u001b[0mrange\u001b[0m\u001b[0;34m(\u001b[0m\u001b[0;36m1\u001b[0m\u001b[0;34m,\u001b[0m \u001b[0;36m10\u001b[0m\u001b[0;34m**\u001b[0m \u001b[0;36m12\u001b[0m\u001b[0;34m)\u001b[0m\u001b[0;34m:\u001b[0m\u001b[0;34m\u001b[0m\u001b[0;34m\u001b[0m\u001b[0m\n\u001b[0;32m---> 10\u001b[0;31m     \u001b[0mlist_num\u001b[0m\u001b[0;34m.\u001b[0m\u001b[0mappend\u001b[0m\u001b[0;34m(\u001b[0m\u001b[0mget_divisors\u001b[0m\u001b[0;34m(\u001b[0m\u001b[0mx\u001b[0m\u001b[0;34m)\u001b[0m\u001b[0;34m)\u001b[0m\u001b[0;34m\u001b[0m\u001b[0;34m\u001b[0m\u001b[0m\n\u001b[0m\u001b[1;32m     11\u001b[0m \u001b[0;34m\u001b[0m\u001b[0m\n\u001b[1;32m     12\u001b[0m \u001b[0mprint\u001b[0m\u001b[0;34m(\u001b[0m\u001b[0mlist_num\u001b[0m\u001b[0;34m.\u001b[0m\u001b[0mcount\u001b[0m\u001b[0;34m(\u001b[0m\u001b[0;36m8\u001b[0m\u001b[0;34m)\u001b[0m\u001b[0;34m)\u001b[0m\u001b[0;34m\u001b[0m\u001b[0;34m\u001b[0m\u001b[0m\n",
      "\u001b[0;32m<ipython-input-8-0b5e24ccb9ca>\u001b[0m in \u001b[0;36mget_divisors\u001b[0;34m(n)\u001b[0m\n\u001b[1;32m      1\u001b[0m \u001b[0;32mdef\u001b[0m \u001b[0mget_divisors\u001b[0m\u001b[0;34m(\u001b[0m\u001b[0mn\u001b[0m\u001b[0;34m)\u001b[0m\u001b[0;34m:\u001b[0m\u001b[0;34m\u001b[0m\u001b[0;34m\u001b[0m\u001b[0m\n\u001b[1;32m      2\u001b[0m     \u001b[0mlist\u001b[0m \u001b[0;34m=\u001b[0m\u001b[0;34m[\u001b[0m\u001b[0mn\u001b[0m\u001b[0;34m]\u001b[0m\u001b[0;34m\u001b[0m\u001b[0;34m\u001b[0m\u001b[0m\n\u001b[0;32m----> 3\u001b[0;31m     \u001b[0;32mfor\u001b[0m \u001b[0mi\u001b[0m \u001b[0;32min\u001b[0m \u001b[0mrange\u001b[0m\u001b[0;34m(\u001b[0m\u001b[0;36m1\u001b[0m\u001b[0;34m,\u001b[0m \u001b[0mint\u001b[0m\u001b[0;34m(\u001b[0m\u001b[0mn\u001b[0m \u001b[0;34m/\u001b[0m \u001b[0;36m2\u001b[0m\u001b[0;34m)\u001b[0m \u001b[0;34m+\u001b[0m \u001b[0;36m1\u001b[0m\u001b[0;34m)\u001b[0m\u001b[0;34m:\u001b[0m\u001b[0;34m\u001b[0m\u001b[0;34m\u001b[0m\u001b[0m\n\u001b[0m\u001b[1;32m      4\u001b[0m         \u001b[0;32mif\u001b[0m \u001b[0mn\u001b[0m \u001b[0;34m%\u001b[0m \u001b[0mi\u001b[0m \u001b[0;34m==\u001b[0m \u001b[0;36m0\u001b[0m\u001b[0;34m:\u001b[0m\u001b[0;34m\u001b[0m\u001b[0;34m\u001b[0m\u001b[0m\n\u001b[1;32m      5\u001b[0m             \u001b[0mlist\u001b[0m\u001b[0;34m.\u001b[0m\u001b[0mappend\u001b[0m\u001b[0;34m(\u001b[0m\u001b[0mint\u001b[0m\u001b[0;34m(\u001b[0m\u001b[0mi\u001b[0m\u001b[0;34m)\u001b[0m\u001b[0;34m)\u001b[0m\u001b[0;34m\u001b[0m\u001b[0;34m\u001b[0m\u001b[0m\n",
      "\u001b[0;31mKeyboardInterrupt\u001b[0m: "
     ]
    }
   ],
   "source": [
    "\n",
    "def get_divisors(n):\n",
    "    list =[n]\n",
    "    for i in range(1, int(n / 2) + 1):\n",
    "        if n % i == 0:\n",
    "            list.append(int(i))\n",
    "    return len(list)\n",
    "    \n",
    "list_num = []\n",
    "for x in range(1, 10** 12):\n",
    "    list_num.append(get_divisors(x))\n",
    "\n",
    "print(list_num.count(8))"
   ]
  },
  {
   "cell_type": "markdown",
   "metadata": {},
   "source": [
    "This solution worked perfectly fine for the smaller provided solutions (e.g. f(100) and f(1000). I discovered, however how inefficient this solution was when attempting to run 10^6. After waiting an ungodly amount of time I realized I needed to find a better solution. I then attempted the following solution: \n"
   ]
  },
  {
   "cell_type": "code",
   "execution_count": null,
   "metadata": {},
   "outputs": [],
   "source": [
    "integer_range = 10**6\n",
    "\n",
    "list_divisors = [0]*(integer_range)\n",
    "for i in range(2, integer_range//2): \n",
    "    for j in range(i*2, integer_range, i):\n",
    "        i2 = i*2\n",
    "        list_divisors[j] += 1\n",
    "\n",
    "\n",
    "print(list_divisors.count(6))\n"
   ]
  },
  {
   "cell_type": "markdown",
   "metadata": {},
   "source": [
    "Which worked wonderfully for 10^6. When I attempted to run 10^12, my computer had memory issues storing the initialized vector. This led me to my final solution. \n",
    "\n",
    "Sources used: \n",
    "https://math.stackexchange.com/questions/2800632/why-is-finding-factors-until-half-of-the-number-enough\n",
    "https://www.geeksforgeeks.org/python-which-is-faster-to-initialize-lists/\n",
    "\n",
    "### Soultion: "
   ]
  },
  {
   "cell_type": "code",
   "execution_count": null,
   "metadata": {},
   "outputs": [],
   "source": [
    "import sys\n",
    "from functools import reduce\n",
    "from math import sqrt\n",
    "\n",
    "\n",
    "def find_divisor(num_string):\n",
    "    \"\"\" This function finds the count of numbers with exactly 8 divisors\"\"\"\n",
    "    num = int(num_string)\n",
    "    numbers_with_eight_dividers = []\n",
    "    divisor_list = []\n",
    "    for number_to_divide in range(1, num):\n",
    "        divisor_list.clear()\n",
    "        factor_dict = factors(number_to_divide)\n",
    "        if(len(factor_dict) == 8):\n",
    "            numbers_with_eight_dividers.append(number_to_divide)\n",
    "    return len(numbers_with_eight_dividers)\n",
    "\n",
    "\n",
    "def factors(num_string):\n",
    "    num = int(num_string)\n",
    "    step = 2 if num % 2 else 1\n",
    "    return set(reduce(list.__add__,\n",
    "                      ([i, num // i] for i in range(1, int(sqrt(num)) + 1, step) if not num % i)))\n",
    "\n",
    "if __name__ == \"__main__\":\n",
    "    divisor_count = find_divisor(sys.argv[1])\n",
    "    print(divisor_count)\n"
   ]
  },
  {
   "cell_type": "markdown",
   "metadata": {},
   "source": [
    "### Solution Explanation \n",
    "\n",
    "This solution uses 2 functions, the first function creates a dictionary for numbers with eight divisors. The second function is used in the first function to find the factors of a number. the upper limit of the range of the list comprehension is the sqrt(num) because the second factor in a pair of factors is always less than the square root of the num. reduce along with __add__ is used to add the factors to a set. \n"
   ]
  },
  {
   "cell_type": "markdown",
   "metadata": {},
   "source": [
    "## Project Euler Problem 179\n",
    "\n",
    "Problem 179\n",
    "Find the number of integers 1 < n < 10^7, for which n and n + 1 have the same number of positive divisors.\n",
    "For example, 14 has the positive divisors 1, 2, 7, 14 while 15 has 1, 3, 5, 15.\n",
    "\n",
    "### Problem breakdown \n",
    "I chose to do this problem next, because it seemed similar to the problem solved above. First I created an initialized list of zeros, with the same number of zeroes as 1 to the top value of the integer range we are checking. I realized the divisors will always include 1 and the value itself, so I started the loop at 2. There will also never be a divisor between 2/n and n [source above]. \n",
    "\n",
    "\n",
    "### Solution: \n"
   ]
  },
  {
   "cell_type": "code",
   "execution_count": null,
   "metadata": {},
   "outputs": [],
   "source": [
    "import sys\n",
    "def consecitive_divisors(integer_range):\n",
    "    integer_range = 16\n",
    "    list_divisors = [0]*(integer_range) # create vector with same number of zeroes as range of numbers \n",
    "    for i in range(2, integer_range//2): # there will never be divisors between 2/n and n \n",
    "        for j in range(i*2, integer_range, i): # seeing if values are divisible by i by looping through i**2 by steps of i \n",
    "            i2 = i*2\n",
    "            list_divisors[j] += 1 # adding number of divisors to initialized list of zeros \n",
    "    print(list_divisors)\n",
    "\n",
    "    print(sum(list_divisors[i] == list_divisors[i - 1] for i in range(3, integer_range))) \n",
    "    # seeing if values next to each other are equal in list of number of divisors \n",
    "    \n",
    "if __name__ == \"__main__\":\n",
    "    num_consecutive_divisors = consecitive_divisors()\n",
    "    print(num_consecutive_divisors)"
   ]
  },
  {
   "cell_type": "markdown",
   "metadata": {},
   "source": [
    "### Solution Breakdown \n",
    "\n",
    "For each i looped through the second for loop will loop by steps of i starting with i times 2. \n",
    "ex: if we were finding consecutive integers less than 16 \n",
    "The first iteration of the second 4 loop would behave in the following way: \n",
    "i: 2  \n",
    "\n",
    "j: 4  \n",
    "\n",
    "i*2: 4  \n",
    "\n",
    "j: 6  \n",
    "\n",
    "i*2: 4  \n",
    "\n",
    "j: 8  \n",
    "\n",
    "i*2: 4  \n",
    "\n",
    "j: 10  \n",
    "\n",
    "i*2: 4  \n",
    "\n",
    "j: 12  \n",
    "\n",
    "i*2: 4  \n",
    "\n",
    "j: 14  \n",
    "\n",
    "i*2: 4\n",
    "\n",
    "These loops will produce the following outcome: \n",
    "\n",
    "list of divisors: \n",
    "[0, 0, 0, 0, 1, 0, 2, 0, 2, 1, 2, 0, 4, 0, 2, 2] -note the number of divisors does not include 1 or the value as divisors \n",
    "\n",
    "we can use a list comprehension to find values next to each other that are equal. I started this comprehension with the 3rd value because the first 2 values represent 0 and 1, one is not included in 1<n < 10^7. When run using integer_range = 10^7. I got 986262 consecutive numbers with the same number of divisors. "
   ]
  }
 ],
 "metadata": {
  "kernelspec": {
   "display_name": "Python 3",
   "language": "python",
   "name": "python3"
  },
  "language_info": {
   "codemirror_mode": {
    "name": "ipython",
    "version": 3
   },
   "file_extension": ".py",
   "mimetype": "text/x-python",
   "name": "python",
   "nbconvert_exporter": "python",
   "pygments_lexer": "ipython3",
   "version": "3.7.8"
  },
  "varInspector": {
   "cols": {
    "lenName": 16,
    "lenType": 16,
    "lenVar": 40
   },
   "kernels_config": {
    "python": {
     "delete_cmd_postfix": "",
     "delete_cmd_prefix": "del ",
     "library": "var_list.py",
     "varRefreshCmd": "print(var_dic_list())"
    },
    "r": {
     "delete_cmd_postfix": ") ",
     "delete_cmd_prefix": "rm(",
     "library": "var_list.r",
     "varRefreshCmd": "cat(var_dic_list()) "
    }
   },
   "types_to_exclude": [
    "module",
    "function",
    "builtin_function_or_method",
    "instance",
    "_Feature"
   ],
   "window_display": false
  }
 },
 "nbformat": 4,
 "nbformat_minor": 4
}
