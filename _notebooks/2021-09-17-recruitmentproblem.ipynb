{
 "cells": [
  {
   "cell_type": "markdown",
   "metadata": {},
   "source": [
    "# Number theory and a Google recruitment puzzle\n",
    "> \"\"\n",
    "\n",
    "- toc: false\n",
    "- branch: master\n",
    "- badges: true\n",
    "- comments: true\n",
    "- categories: [jupyter]\n",
    "- hide: false\n",
    "- search_exclude: true"
   ]
  },
  {
   "cell_type": "markdown",
   "metadata": {},
   "source": [
    "For this homework assignment, we were tasked with solving a google recruitment puzzle. A similar puzzle was once posted on a billboard, as a recruitment technique by google (can find more about this here: https://www.cnet.com/tech/services-and-software/google-recruits-eggheads-with-mystery-billboard/)\n",
    "\n",
    "Essentially, if you were able to solve the problem, it gave you a URL to a webstie which had another problem to solve. If you were able to solve both of these problems successfully, you were asked to submit a resume to google. Resulting in a somewhat more exciting way to recruit talent\n",
    "\n",
    "## The problem \n",
    "Find the first 10 digit prime in the decimal expansion of 17$\\pi$. \n",
    "\n",
    "## The approach \n",
    "This problem will be solved using 3 different helper functions. The first one finds the decimal expansion of an expression, the second will check if a number is prime, and the third will create windows of a certain length from a string and check if those windows are prime. \n",
    "\n",
    "These helper functions are shown below: "
   ]
  },
  {
   "cell_type": "code",
   "execution_count": 56,
   "metadata": {},
   "outputs": [],
   "source": [
    "#create helper functions \n",
    "from sympy import *\n",
    "import math\n",
    "\n",
    "def expand_expression(expression, digits_precision): \n",
    "    \"\"\"This function creates an specified digit expansion of an expression\"\"\"\n",
    "    expanded_expression = expand(expression)\n",
    "    return N(expanded_expression, digits_precision) # rerturns expression expanded by speicifed number of digits\n",
    "\n",
    "def is_number_prime(number):\n",
    "    \"\"\"This function checks if a given int is prime\"\"\"\n",
    "    if number > 2 and number % 2 == 0: #check if value is greater than 2 or even \n",
    "        return False #if greater than 2 or even value is not prime \n",
    "    max_divisor = math.floor(math.sqrt(number)) #only looop through square root of value \n",
    "    for i in range(3, 1 + max_divisor, 2):#start loop at 3 and step by 2 to only check odd numbers\n",
    "        if number% i == 0: #if number is able to be divided it is not prime \n",
    "            return False\n",
    "    return True #if no values are found to be divisors value is prime \n",
    "\n",
    "\n",
    "\n",
    "def sliding_search_for_prime(amount_to_slide, sliding_value):\n",
    "    \"\"\"This function creates a sliding window of speicified size that also checks if window is prime\"\"\"\n",
    "    length_of_string = len(sliding_value) #length of expanded value   \n",
    "    for character_index in range(length_of_string - amount_to_slide + 1): #keeps window from going out of index\n",
    "        last_index_of_window = character_index+amount_to_slide #tells how far to index for each window\n",
    "        value_to_test = sliding_value[character_index:last_index_of_window] #creates value that moves one space each for loop\n",
    "        is_prime = is_number_prime(int(value_to_test)) #checks if each value from window is prime \n",
    "        if is_prime:\n",
    "            return value_to_test # if prime returns value \n"
   ]
  },
  {
   "cell_type": "markdown",
   "metadata": {},
   "source": [
    "The first function uses the sympy function \"expand\" to exapand the given expression by a given number of digits. The is_number_prime function first checks if a number is greater than 2 or divisible by 2, because if a number is greater than 2 and even, it is not a prime number. Then a for loop is used starting at 3, moving in steps of two to see if odd numbers are divisible. This loop stops at the square root of the input number, because the numbers factors are never greater than the square root of the number. This is a property discussed in my previous blog post. \n",
    "    The sliding search for prime creates sliding windows of a specified length, stopping once a prime number is found. I originally tried to find all sliding windows in the expansion, but found that to be horribly inefficient. It meant my prime function would have to be applied to a bunch of values even after the first 10 digit prime was found. \n",
    "    I then wrote some test cases for these functions. These can be found below:"
   ]
  },
  {
   "cell_type": "code",
   "execution_count": 38,
   "metadata": {},
   "outputs": [],
   "source": [
    "#unit tests for helper functions \n",
    "import pytest \n",
    "\n",
    "def test_expansion(): \n",
    "    \"\"\"This function tests the expansion function\"\"\"\n",
    "    assert expand_expression(\"pi\", 15) == N(pi, 15) , \"Incorrect expansion\"\n",
    "\n",
    "def test_checkifprime():\n",
    "    \"\"\"This function tests the is_number_prime function\"\"\"\n",
    "    assert is_number_prime(2) == True, \"Did not detect prime number\"\n",
    "\n",
    "def test_window(): \n",
    "    \"\"\"This function tests the sliding_search_for_prime function\"\"\"\n",
    "    assert sliding_search_for_prime(4, '14159') == '4159', \"windows not created properly\"\n"
   ]
  },
  {
   "cell_type": "markdown",
   "metadata": {},
   "source": [
    "After confirming that these helper functions worked properly, I moved on to creating the final function to solve the problem:"
   ]
  },
  {
   "cell_type": "code",
   "execution_count": 44,
   "metadata": {},
   "outputs": [
    {
     "name": "stdout",
     "output_type": "stream",
     "text": [
      "Prime value found : 8649375157\n"
     ]
    }
   ],
   "source": [
    "#function \n",
    "def main_function(expr, num_digit):\n",
    "    \"\"\"This function searches for first prime number of a given length in decimal expnasion of an expression\"\"\"\n",
    "    expression = str(expr)\n",
    "    digits_precision = 1 #initialize expression expansion\n",
    "    number_of_digits = str(num_digit)\n",
    "    searching_for_prime = true\n",
    "    while searching_for_prime: #create while loop to only serch until first prime is found \n",
    "        digits_precision = digits_precision * int(number_of_digits) # expand expression by increments of number of digits\n",
    "        solved_expression = expand_expression(expression, digits_precision) #expand expression \n",
    "        string_num_value = str(solved_expression) #convert expanded expression into string\n",
    "        val_after_dec = string_num_value.split('.')[1] #only look at values after decimal \n",
    "        prime_value_found = sliding_search_for_prime(int(number_of_digits), val_after_dec) #create sliding window to find prime\n",
    "        if prime_value_found is not None:\n",
    "            return (\"Prime value found : \"+str(prime_value_found))# print prime \n",
    "            searching_for_prime = false #end loop\n",
    "print(main_function((17*pi), 10))"
   ]
  },
  {
   "cell_type": "markdown",
   "metadata": {},
   "source": [
    "This function uses a while loop that keeps expanding the expression by increments set by the num_digit, until a prime value of the num_digit length is found. This function found that the first 10 digit prime in an expansion of 17$\\pi$ to be 8649375157. In this assignment we were given a test case to use, the first 10 digit prime of an expansion of euler's constant. The unit test for this function using this test case is found below: "
   ]
  },
  {
   "cell_type": "code",
   "execution_count": 57,
   "metadata": {},
   "outputs": [],
   "source": [
    "#unit test for function \n",
    "\n",
    "def test_find10digitprime():\n",
    "    \"\"\"This function tests main_function\"\"\"\n",
    "    assert main_function(E, 10) == 'Prime value found : 7427466391', \"incorrect 10 digit prime\"\n",
    "    \n",
    "    \n"
   ]
  },
  {
   "cell_type": "markdown",
   "metadata": {},
   "source": [
    "This problem was fun to solve, as it made me think about the efficiency of my code. I had to be a bit more creative than what the homework prompt was hinting at to come up with a result that didn't leave me waiting for code to run"
   ]
  }
 ],
 "metadata": {
  "kernelspec": {
   "display_name": "Python 3",
   "language": "python",
   "name": "python3"
  },
  "language_info": {
   "codemirror_mode": {
    "name": "ipython",
    "version": 3
   },
   "file_extension": ".py",
   "mimetype": "text/x-python",
   "name": "python",
   "nbconvert_exporter": "python",
   "pygments_lexer": "ipython3",
   "version": "3.7.8"
  }
 },
 "nbformat": 4,
 "nbformat_minor": 4
}
